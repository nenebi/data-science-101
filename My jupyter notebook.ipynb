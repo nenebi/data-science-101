{
 "cells": [
  {
   "cell_type": "markdown",
   "id": "7785993e",
   "metadata": {},
   "source": [
    "# EX2. MY JUPYTER NOTEBOOK\n"
   ]
  },
  {
   "cell_type": "markdown",
   "id": "1349147a",
   "metadata": {},
   "source": [
    "#  EX3. Introduction: "
   ]
  },
  {
   "cell_type": "markdown",
   "id": "3c81cd8a",
   "metadata": {},
   "source": [
    "# EX4. Data Science Languages:\n",
    "# 1. R, 2. Python, 3.SQL, 4.JULIA, ETC."
   ]
  },
  {
   "cell_type": "markdown",
   "id": "9f674190",
   "metadata": {},
   "source": [
    "# EX5. Data Science Libraries:\n",
    "# Numpy, Pandas, ggplot2,Matplotlib,tensorflow etc."
   ]
  },
  {
   "cell_type": "markdown",
   "id": "720d4fcb",
   "metadata": {},
   "source": [
    "# EX6. "
   ]
  },
  {
   "cell_type": "markdown",
   "id": "d8c7897f",
   "metadata": {},
   "source": [
    "#  EX7. ARITHMETICS:\n",
    "# Addition,subtraction, division, multiplication"
   ]
  },
  {
   "cell_type": "code",
   "execution_count": null,
   "id": "17989e5c",
   "metadata": {},
   "outputs": [],
   "source": [
    "import numpy as np\n",
    "a= 3\n",
    "b= 4\n",
    "\n",
    "\n"
   ]
  },
  {
   "cell_type": "code",
   "execution_count": null,
   "id": "992c040f",
   "metadata": {},
   "outputs": [],
   "source": [
    "Add= a+b\n",
    "Add"
   ]
  },
  {
   "cell_type": "code",
   "execution_count": null,
   "id": "45bd6194",
   "metadata": {},
   "outputs": [],
   "source": [
    "Multiplication= 2*5\n",
    "Multiplication"
   ]
  },
  {
   "cell_type": "code",
   "execution_count": null,
   "id": "ffb19f56",
   "metadata": {},
   "outputs": [],
   "source": [
    "mins= input(\"enter your minutes\")\n",
    "hrs= mins/60\n",
    "print(hrs + \"hours\")"
   ]
  },
  {
   "cell_type": "markdown",
   "id": "3e89e513",
   "metadata": {},
   "source": [
    "# List of objectives\n",
    "\n"
   ]
  },
  {
   "cell_type": "markdown",
   "id": "a2fe2eac",
   "metadata": {},
   "source": [
    "# Author Names"
   ]
  },
  {
   "cell_type": "code",
   "execution_count": null,
   "id": "a4aead09",
   "metadata": {},
   "outputs": [],
   "source": []
  }
 ],
 "metadata": {
  "kernelspec": {
   "display_name": "Python 3",
   "language": "python",
   "name": "python3"
  },
  "language_info": {
   "codemirror_mode": {
    "name": "ipython",
    "version": 3
   },
   "file_extension": ".py",
   "mimetype": "text/x-python",
   "name": "python",
   "nbconvert_exporter": "python",
   "pygments_lexer": "ipython3",
   "version": "3.8.8"
  }
 },
 "nbformat": 4,
 "nbformat_minor": 5
}
